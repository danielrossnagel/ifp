{
 "cells": [
  {
   "cell_type": "code",
   "execution_count": 2,
   "id": "ae10eee6-b077-40bb-8cfa-001d029ffbe3",
   "metadata": {},
   "outputs": [
    {
     "name": "stdout",
     "output_type": "stream",
     "text": [
      "particle_type:  [3 3 3 3 3 3 3 3 3 3 3 3 3 3 3 3 3 3 3 3 3 3 3 3 3 3 3 3 3 3 3 3 3 3 3 3 3\n",
      " 3 3 3 5 5 5 5 5 5 5 5 5 5 5 5 5 5 5 5 5 5 5 5 5 5 5 5 5 5 5 5 5 5 5 5 5 5\n",
      " 5 5 5 5 5 5 5 5 5 5 5 5 5 5 5 5 5 5 5 5 5 5 5 5 5 5 5 5 5 5 5 5 5 5 5 5 5\n",
      " 5 5 5 5 5 5 5 5 5 5 5 5 5 5 5 5 5 5 5 5 5 5 5 5 5 5 5 5 5 5 5 5 5 5 5 5 5\n",
      " 5 5 5 5 5 5 5 5 5 5 5 5 5 5 5 5 5 5 5 5 5 5 5 5 5 5 5 5 5 5 5 5 5 5 5 5 5\n",
      " 5 5 5 5 5 5 5 5 5 5 5 5 5 5 5 5 5 5 5 5 5 5 5 5 5 5 5 5 5 5 5 5 5 5 5 5 5\n",
      " 5 5 5 5 5 5 5 5 5 5 5 5 5 5 5 5 5 5 5 5 5 5 5 5 5 5 5 5 5 5 5 5 5 5 5 5 5\n",
      " 5 5 5 5 5 5 5 5 5 5 5 5 5 5 5 5 5 5 5 5 5 5 5 5 5 5 5 5 5 5 5 5 5 5 5 5 5\n",
      " 5 5 5 5 5 5 5 5 5 5 5 5 5 5 5 5 5 5 5 5 5 5 5 5 5 5 5 5 5 5 5 5 5 5 5 5 5\n",
      " 5 5 5 5 5 5 5 5 5 5 5 5 5 5 5 5 5 5 5 5 5 5 5 5 5 5 5 5 5 5 5 5 5 5 5 5 5\n",
      " 5 5 5 5 5 5 5 5 5 5 5 5 5 5 5 5 5 5 5 5 5 5 5 5 5 5 5 5 5 5 5 5 5 5 5 5 5\n",
      " 5 5 5 5 5 5 5 5 5 5 5 5 5 5 5 5 5 5 5 5 5 5 5 5 5 5 5 5 5 5 5 5 5 5 5 5 5\n",
      " 5 5 5 5 5 5 5 5 5 5 5 5 5 5 5 5 5 5 5 5 5 5 5 5 5 5 5 5 5 5 5 5 5 5 5 5 5]\n"
     ]
    },
    {
     "data": {
      "text/plain": [
       "<DatasetV1Adapter shapes: ({particle_type: (481,), key: (0,), position: (481, 1000, 2), n_particles_per_example: (1,), is_trajectory: (1,)}, (481, 2)), types: ({particle_type: tf.int64, key: tf.int64, position: tf.float32, n_particles_per_example: tf.int32, is_trajectory: tf.bool}, tf.float32)>"
      ]
     },
     "execution_count": 2,
     "metadata": {},
     "output_type": "execute_result"
    }
   ],
   "source": [
    "import numpy as np\n",
    "import tensorflow as tf\n",
    "\n",
    "particle_list_x = list(np.arange(0.5, 0.71, 0.01))\n",
    "particle_list_y = list(np.arange(0.6, 0.8, 0.01))\n",
    "particle_list_solid = list([]) # Withouth solid particles\n",
    "#particle_list_solid = list(np.arange(0.4, 0.8, 0.01)) # With solid particles\n",
    "\n",
    "num_particles = len(particle_list_x)*len(particle_list_y) + len(particle_list_solid)\n",
    "num_steps = 1000\n",
    "\n",
    "position = np.zeros((num_particles, num_steps, 2))\n",
    "particle_type = np.full((len(particle_list_x)*len(particle_list_y),), 5)\n",
    "particle_type_solid = np.full((len(particle_list_solid),), 3)\n",
    "particle_type = np.append(particle_type_solid, particle_type)\n",
    "\n",
    "key = []\n",
    "n_particles_per_example = [num_particles,]\n",
    "is_trajectory = [True,]\n",
    "target_position = np.zeros((num_particles, 2))\n",
    "\n",
    "idx = 0\n",
    "for idx_2, value_2 in enumerate(particle_list_solid):\n",
    "    for step in range(num_steps):\n",
    "            position[idx_2, step, 0] = value_2\n",
    "            position[idx_2, step, 1] = 0.3\n",
    "    target_position[idx_2, 0] = value_2\n",
    "    target_position[idx_2, 1] = 0.3\n",
    "    idx += 1\n",
    "for idx_0, value_0 in enumerate(particle_list_x):\n",
    "    for idx_1, value_1 in enumerate(particle_list_y):  \n",
    "        for step in range(num_steps):\n",
    "            position[idx, step, 0] = value_0\n",
    "            position[idx, step, 1] = value_1\n",
    "        target_position[idx, 0] = value_0\n",
    "        target_position[idx, 1] = value_1\n",
    "        idx += 1  \n",
    "print(\"particle_type: \", particle_type)        \n",
    "particle_type_tensor = tf.convert_to_tensor(particle_type, dtype=tf.int64, name='particle_type')\n",
    "key_tensor = tf.convert_to_tensor(key, dtype=tf.int64, name='key')\n",
    "position_tensor = tf.convert_to_tensor(position, dtype=tf.float32, name='position')\n",
    "n_particles_per_example_tensor = tf.convert_to_tensor(n_particles_per_example, dtype=tf.int32, name='n_particles_per_example')\n",
    "is_trajectory_tensor = tf.convert_to_tensor([True,], dtype=tf.bool, name='is_trajectory')\n",
    "target_position_tensor = tf.convert_to_tensor(target_position, dtype=tf.float32, name='target_position')\n",
    "\n",
    "features = {\n",
    "    'particle_type': particle_type_tensor,\n",
    "    'key': key_tensor,\n",
    "    'position': position_tensor,\n",
    "    'n_particles_per_example': n_particles_per_example_tensor,\n",
    "    'is_trajectory': is_trajectory_tensor\n",
    "}\n",
    "\n",
    "dataset = tf.data.Dataset.from_tensors((features))\n",
    "target_position_dataset = tf.data.Dataset.from_tensors(target_position_tensor)\n",
    "dataset = tf.data.Dataset.zip((dataset, target_position_dataset)) \n",
    "dataset"
   ]
  },
  {
   "cell_type": "code",
   "execution_count": null,
   "id": "38c0c23e-7159-4efc-a3ca-22fabf8960fb",
   "metadata": {},
   "outputs": [],
   "source": []
  }
 ],
 "metadata": {
  "kernelspec": {
   "display_name": "Python 3 (ipykernel)",
   "language": "python",
   "name": "python3"
  },
  "language_info": {
   "codemirror_mode": {
    "name": "ipython",
    "version": 3
   },
   "file_extension": ".py",
   "mimetype": "text/x-python",
   "name": "python",
   "nbconvert_exporter": "python",
   "pygments_lexer": "ipython3",
   "version": "3.7.11"
  }
 },
 "nbformat": 4,
 "nbformat_minor": 5
}
